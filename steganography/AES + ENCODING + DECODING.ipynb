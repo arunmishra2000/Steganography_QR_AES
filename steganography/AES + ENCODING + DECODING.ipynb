{
 "cells": [
  {
   "cell_type": "markdown",
   "id": "77b97dc4",
   "metadata": {},
   "source": [
    "# AES Cipher"
   ]
  },
  {
   "cell_type": "code",
   "execution_count": 3,
   "id": "df02185f",
   "metadata": {},
   "outputs": [],
   "source": [
    "# Dependencies @base64, @hashlib, @Crypto\n",
    "\n",
    "import base64\n",
    "import hashlib\n",
    "\n",
    "from Crypto import Random\n",
    "from Crypto.Cipher import AES\n",
    "\n",
    "\n",
    "class AESCipher(object):\n",
    "\n",
    "    def __init__(self, key):\n",
    "        self.bs = AES.block_size\n",
    "        self.key = hashlib.sha256(key.encode()).digest()\n",
    "\n",
    "    def encrypt(self, raw):\n",
    "        raw = self._pad(raw)\n",
    "        iv = Random.new().read(AES.block_size)  #Initialisation Vector\n",
    "        cipher = AES.new(self.key, AES.MODE_CBC, iv)  #Cipher Block Chaining Mode\n",
    "        return base64.b64encode(iv + cipher.encrypt(raw))  #binary to text encoding\n",
    "        #Image will be base64 encoded, so the secret message is also encrypted to base64\n",
    "        \n",
    "    def decrypt(self, enc):\n",
    "        enc = base64.b64decode(enc)\n",
    "        iv = enc[:AES.block_size]\n",
    "        cipher = AES.new(self.key, AES.MODE_CBC, iv)\n",
    "        return self._unpad(cipher.decrypt(enc[AES.block_size:])).decode('utf-8')\n",
    "\n",
    "    def _pad(self, s): #private\n",
    "        return s + ((self.bs - len(s) % self.bs) * chr(self.bs - len(s) % self.bs)).encode()\n",
    "\n",
    "    @staticmethod\n",
    "    def _unpad(s):\n",
    "        return s[:-ord(s[len(s) - 1:])]\n",
    "                    \n"
   ]
  },
  {
   "cell_type": "code",
   "execution_count": 4,
   "id": "389bc0f6",
   "metadata": {},
   "outputs": [],
   "source": [
    "key ='øám`«õãtÙ¸i\\x9as\\x8eØ\\x01'\n",
    "aes = AESCipher(key)"
   ]
  },
  {
   "cell_type": "code",
   "execution_count": 5,
   "id": "29caab2c",
   "metadata": {},
   "outputs": [
    {
     "data": {
      "text/plain": [
       "b'OEOom9MLDSeFosOSMc/hXz//nVw5JdbyCzIWvOQxXHk='"
      ]
     },
     "execution_count": 5,
     "metadata": {},
     "output_type": "execute_result"
    }
   ],
   "source": [
    "aes.encrypt(b\"We are a family\")"
   ]
  },
  {
   "cell_type": "code",
   "execution_count": 6,
   "id": "da695860",
   "metadata": {},
   "outputs": [
    {
     "data": {
      "text/plain": [
       "'We are a family'"
      ]
     },
     "execution_count": 6,
     "metadata": {},
     "output_type": "execute_result"
    }
   ],
   "source": [
    "aes.decrypt(b'gcM+zpCw12y7WDwnNneT7e6bq/VYBMuHokhph6yvQ04=')"
   ]
  },
  {
   "cell_type": "code",
   "execution_count": 7,
   "id": "bd988bee",
   "metadata": {},
   "outputs": [],
   "source": [
    "# keysample = ''.join(chr(random.randint(0, 0xFF)) for i in range(16))\n",
    "key ='øám`«õãtÙ¸i\\x9as\\x8eØ\\x01'\n",
    "aes = AESCipher(key)"
   ]
  },
  {
   "cell_type": "code",
   "execution_count": 8,
   "id": "0ed72bac",
   "metadata": {},
   "outputs": [
    {
     "data": {
      "text/plain": [
       "b'y1\\x14\\xdb5\\x00\\x16\\x89\\xef\\xf7\\xaa\\x11\\xc2\\x02\\xd1.\\xf6\\x1b\\x00e\\xc9\\x9b\\xfa;N\\xd6Yt\\x8b1\\x04\\x12'"
      ]
     },
     "execution_count": 8,
     "metadata": {},
     "output_type": "execute_result"
    }
   ],
   "source": [
    "aes.key"
   ]
  },
  {
   "cell_type": "markdown",
   "id": "b68447b5",
   "metadata": {},
   "source": [
    "# Encryption and QR Generation / Embedding"
   ]
  },
  {
   "cell_type": "code",
   "execution_count": 35,
   "id": "9d9aabad",
   "metadata": {},
   "outputs": [],
   "source": [
    "# Dependencies @opencv @python_Wavelet_Transform @qrCode @numpy\n",
    "\n",
    "import cv2\n",
    "import pywt\n",
    "import qrcode\n",
    "import numpy as np\n",
    "\n",
    "def aes_encrypt(key: str, data: str):\n",
    "    cipher = AESCipher(key)\n",
    "    enc = cipher.encrypt(data)\n",
    "    return enc\n",
    "\n",
    "\n",
    "def embed(cover_path: str, key: str, data: str):\n",
    "    enc = aes_encrypt(key, data)\n",
    "\n",
    "    cover = cv2.imread(cover_path)\n",
    "    cover = cv2.cvtColor(cover, cv2.COLOR_BGR2GRAY)\n",
    "    datacover = np.asarray(cover, dtype=\"float64\")  #converts to numpy array\n",
    "    coeff2 = pywt.dwt2(datacover, 'haar')\n",
    "    print(\"Coefficient 2\\n\")\n",
    "    print(coeff2)   #DWT transform Coeff\n",
    "    print(\"\\n\")\n",
    "\n",
    "    qr = qrcode.make(enc)\n",
    "    \n",
    "    qrc = qrcode.QRCode()\n",
    "    \n",
    "    qrc.add_data(enc)\n",
    "    qrc.make(fit=True)\n",
    "    img = qrc.make_image(fill_color=\"black\", back_color=\"white\").convert('RGB')\n",
    "    img.save(\"sample.png\")\n",
    "\n",
    "    size = cover.shape #2700*2700\n",
    "    qr = qr.resize((size[1], size[0]))\n",
    "    qr = qr.convert(\"L\")   #Data Correction Level(depends on modules)\n",
    "    dataqr = np.asarray(qr, dtype=\"float64\")\n",
    "    coeff1 = pywt.dwt2(dataqr, 'haar')\n",
    "    print(\"Coefficient 1\\n\")\n",
    "    print(coeff1)    #QR Code Embedding Coefficient\n",
    "    print(\"\\n\")\n",
    "    \n",
    "    def fuse_coeff(coeff1, coeff2):\n",
    "        coeff = (coeff1 * 0.0050 + coeff2 * 0.9950)  #alpha = 0.5 beta = 99.5  \n",
    "        return coeff\n",
    "\n",
    "    stego = []\n",
    "    stego.append(fuse_coeff(coeff1[0], coeff2[0]))\n",
    "\n",
    "    c1 = fuse_coeff(coeff1[1][0], coeff2[1][0])\n",
    "    c2 = fuse_coeff(coeff1[1][1], coeff2[1][1])\n",
    "    c3 = fuse_coeff(coeff1[1][2], coeff2[1][2])\n",
    "    stego.append((c1, c2, c3))\n",
    "    print(\"Steganographed Image\\n\")\n",
    "    print(stego)\n",
    "    print(\"\\n\")\n",
    "    cv2.imwrite(\"stego.png\", pywt.idwt2(stego, 'haar'))\n",
    "\n"
   ]
  },
  {
   "cell_type": "code",
   "execution_count": 36,
   "id": "23d2f8ed",
   "metadata": {},
   "outputs": [
    {
     "data": {
      "text/plain": [
       "['Haar',\n",
       " 'Daubechies',\n",
       " 'Symlets',\n",
       " 'Coiflets',\n",
       " 'Biorthogonal',\n",
       " 'Reverse biorthogonal',\n",
       " 'Discrete Meyer (FIR Approximation)',\n",
       " 'Gaussian',\n",
       " 'Mexican hat wavelet',\n",
       " 'Morlet wavelet',\n",
       " 'Complex Gaussian wavelets',\n",
       " 'Shannon wavelets',\n",
       " 'Frequency B-Spline wavelets',\n",
       " 'Complex Morlet wavelets']"
      ]
     },
     "execution_count": 36,
     "metadata": {},
     "output_type": "execute_result"
    }
   ],
   "source": [
    "pywt.families(short=False)"
   ]
  },
  {
   "cell_type": "code",
   "execution_count": 37,
   "id": "23abb102",
   "metadata": {
    "scrolled": false
   },
   "outputs": [
    {
     "name": "stdout",
     "output_type": "stream",
     "text": [
      "Coefficient 2\n",
      "\n",
      "(array([[180., 180., 180., ..., 438., 439., 441.],\n",
      "       [ 71.,  71.,  71., ..., 438., 439., 441.],\n",
      "       [ 70.,  70.,  70., ..., 438., 439., 441.],\n",
      "       ...,\n",
      "       [ 70.,  70.,  70., ..., 116., 116., 116.],\n",
      "       [ 70.,  70.,  70., ..., 116., 116., 116.],\n",
      "       [ 70.,  70.,  70., ..., 116., 116., 116.]]), (array([[110., 110., 110., ...,   0.,   0.,   0.],\n",
      "       [  1.,   1.,   1., ...,   0.,   0.,   0.],\n",
      "       [  2.,   2.,   2., ...,   0.,   0.,   0.],\n",
      "       ...,\n",
      "       [  0.,   0.,   0., ...,   0.,   0.,   0.],\n",
      "       [  0.,   0.,   0., ...,   0.,   0.,   0.],\n",
      "       [  0.,   0.,   0., ...,   0.,   0.,   0.]]), array([[ 0.,  0.,  0., ...,  0., -1., -1.],\n",
      "       [ 0.,  0.,  0., ...,  0., -1., -1.],\n",
      "       [ 0.,  0.,  0., ...,  0., -1., -1.],\n",
      "       ...,\n",
      "       [ 0.,  0.,  0., ...,  0.,  0.,  0.],\n",
      "       [ 0.,  0.,  0., ...,  0.,  0.,  0.],\n",
      "       [ 0.,  0.,  0., ...,  0.,  0.,  0.]]), array([[0., 0., 0., ..., 0., 0., 0.],\n",
      "       [0., 0., 0., ..., 0., 0., 0.],\n",
      "       [0., 0., 0., ..., 0., 0., 0.],\n",
      "       ...,\n",
      "       [0., 0., 0., ..., 0., 0., 0.],\n",
      "       [0., 0., 0., ..., 0., 0., 0.],\n",
      "       [0., 0., 0., ..., 0., 0., 0.]])))\n",
      "\n",
      "\n",
      "Coefficient 1\n",
      "\n",
      "(array([[510., 510., 510., ..., 510., 510., 510.],\n",
      "       [510., 510., 510., ..., 510., 510., 510.],\n",
      "       [510., 510., 510., ..., 510., 510., 510.],\n",
      "       ...,\n",
      "       [510., 510., 510., ..., 510., 510., 510.],\n",
      "       [510., 510., 510., ..., 510., 510., 510.],\n",
      "       [510., 510., 510., ..., 510., 510., 510.]]), (array([[0., 0., 0., ..., 0., 0., 0.],\n",
      "       [0., 0., 0., ..., 0., 0., 0.],\n",
      "       [0., 0., 0., ..., 0., 0., 0.],\n",
      "       ...,\n",
      "       [0., 0., 0., ..., 0., 0., 0.],\n",
      "       [0., 0., 0., ..., 0., 0., 0.],\n",
      "       [0., 0., 0., ..., 0., 0., 0.]]), array([[0., 0., 0., ..., 0., 0., 0.],\n",
      "       [0., 0., 0., ..., 0., 0., 0.],\n",
      "       [0., 0., 0., ..., 0., 0., 0.],\n",
      "       ...,\n",
      "       [0., 0., 0., ..., 0., 0., 0.],\n",
      "       [0., 0., 0., ..., 0., 0., 0.],\n",
      "       [0., 0., 0., ..., 0., 0., 0.]]), array([[0., 0., 0., ..., 0., 0., 0.],\n",
      "       [0., 0., 0., ..., 0., 0., 0.],\n",
      "       [0., 0., 0., ..., 0., 0., 0.],\n",
      "       ...,\n",
      "       [0., 0., 0., ..., 0., 0., 0.],\n",
      "       [0., 0., 0., ..., 0., 0., 0.],\n",
      "       [0., 0., 0., ..., 0., 0., 0.]])))\n",
      "\n",
      "\n",
      "Steganographed Image\n",
      "\n",
      "[array([[181.65 , 181.65 , 181.65 , ..., 438.36 , 439.355, 441.345],\n",
      "       [ 73.195,  73.195,  73.195, ..., 438.36 , 439.355, 441.345],\n",
      "       [ 72.2  ,  72.2  ,  72.2  , ..., 438.36 , 439.355, 441.345],\n",
      "       ...,\n",
      "       [ 72.2  ,  72.2  ,  72.2  , ..., 117.97 , 117.97 , 117.97 ],\n",
      "       [ 72.2  ,  72.2  ,  72.2  , ..., 117.97 , 117.97 , 117.97 ],\n",
      "       [ 72.2  ,  72.2  ,  72.2  , ..., 117.97 , 117.97 , 117.97 ]]), (array([[109.45 , 109.45 , 109.45 , ...,   0.   ,   0.   ,   0.   ],\n",
      "       [  0.995,   0.995,   0.995, ...,   0.   ,   0.   ,   0.   ],\n",
      "       [  1.99 ,   1.99 ,   1.99 , ...,   0.   ,   0.   ,   0.   ],\n",
      "       ...,\n",
      "       [  0.   ,   0.   ,   0.   , ...,   0.   ,   0.   ,   0.   ],\n",
      "       [  0.   ,   0.   ,   0.   , ...,   0.   ,   0.   ,   0.   ],\n",
      "       [  0.   ,   0.   ,   0.   , ...,   0.   ,   0.   ,   0.   ]]), array([[ 0.   ,  0.   ,  0.   , ...,  0.   , -0.995, -0.995],\n",
      "       [ 0.   ,  0.   ,  0.   , ...,  0.   , -0.995, -0.995],\n",
      "       [ 0.   ,  0.   ,  0.   , ...,  0.   , -0.995, -0.995],\n",
      "       ...,\n",
      "       [ 0.   ,  0.   ,  0.   , ...,  0.   ,  0.   ,  0.   ],\n",
      "       [ 0.   ,  0.   ,  0.   , ...,  0.   ,  0.   ,  0.   ],\n",
      "       [ 0.   ,  0.   ,  0.   , ...,  0.   ,  0.   ,  0.   ]]), array([[0., 0., 0., ..., 0., 0., 0.],\n",
      "       [0., 0., 0., ..., 0., 0., 0.],\n",
      "       [0., 0., 0., ..., 0., 0., 0.],\n",
      "       ...,\n",
      "       [0., 0., 0., ..., 0., 0., 0.],\n",
      "       [0., 0., 0., ..., 0., 0., 0.],\n",
      "       [0., 0., 0., ..., 0., 0., 0.]]))]\n",
      "\n",
      "\n"
     ]
    }
   ],
   "source": [
    "embed(\"image.JPG\",'bcjdbcjd',b\"dbxejxbjdbcjdbchdvhcd\")"
   ]
  },
  {
   "cell_type": "markdown",
   "id": "a434e8ac",
   "metadata": {},
   "source": [
    "# Decryption"
   ]
  },
  {
   "cell_type": "code",
   "execution_count": 10,
   "id": "a71726f0",
   "metadata": {},
   "outputs": [],
   "source": [
    "import cv2\n",
    "import pywt\n",
    "import numpy as np\n",
    "\n",
    "\n",
    "\n",
    "def recover(stego_path: str, cover_path: str):\n",
    "    stego = cv2.imread(stego_path)\n",
    "    stego = cv2.cvtColor(stego, cv2.COLOR_BGR2GRAY)\n",
    "    coeff2 = pywt.dwt2(np.asarray(stego, dtype=\"float64\"), 'haar')\n",
    "\n",
    "    cover = cv2.imread(cover_path)\n",
    "    cover = cv2.cvtColor(cover, cv2.COLOR_BGR2GRAY)\n",
    "    size = stego.shape\n",
    "    cover = cv2.resize(cover, (size[1], size[0]))\n",
    "    coeff1 = pywt.dwt2(np.asarray(cover, dtype=\"float64\"), 'haar')\n",
    "\n",
    "    def fuse_coeff(coeff1, coeff2):\n",
    "        cooef = (coeff2 - (coeff1 * 0.9950)) / 0.0050\n",
    "        return cooef\n",
    "\n",
    "    recovered = []\n",
    "    recovered.append(fuse_coeff(coeff1[0], coeff2[0]))\n",
    "    c1 = fuse_coeff(coeff1[1][0], coeff2[1][0])\n",
    "    c2 = fuse_coeff(coeff1[1][1], coeff2[1][1])\n",
    "    c3 = fuse_coeff(coeff1[1][2], coeff2[1][2])\n",
    "\n",
    "    recovered.append((c1, c2, c3))\n",
    "    cv2.imwrite(\"decoded.png\", pywt.idwt2(recovered, 'haar'))\n",
    "\n",
    "\n",
    "def aes_decrypt(key: str, data: str):\n",
    "    cipher = AESCipher(key)\n",
    "    dec = cipher.decrypt(data)\n",
    "    return dec\n",
    "\n"
   ]
  },
  {
   "cell_type": "code",
   "execution_count": 9,
   "id": "23dcf832",
   "metadata": {},
   "outputs": [
    {
     "data": {
      "text/plain": [
       "b'\\xdeN\\xafedf\\xf1dX\\x16r\\x99\\xa1\\x04\\x9d\\xa0'"
      ]
     },
     "execution_count": 9,
     "metadata": {},
     "output_type": "execute_result"
    }
   ],
   "source": [
    "Random.new().read(AES.block_size)"
   ]
  },
  {
   "cell_type": "code",
   "execution_count": 10,
   "id": "e38bd037",
   "metadata": {},
   "outputs": [],
   "source": [
    "a =b'\\xdeN\\xafedf\\xf1dX\\x16r\\x99\\xa1\\x04\\x9d\\xa0'"
   ]
  },
  {
   "cell_type": "code",
   "execution_count": 11,
   "id": "4afd814d",
   "metadata": {},
   "outputs": [
    {
     "data": {
      "text/plain": [
       "16"
      ]
     },
     "execution_count": 11,
     "metadata": {},
     "output_type": "execute_result"
    }
   ],
   "source": [
    "len(a)"
   ]
  },
  {
   "cell_type": "code",
   "execution_count": null,
   "id": "c5ac3743",
   "metadata": {},
   "outputs": [],
   "source": []
  },
  {
   "cell_type": "code",
   "execution_count": null,
   "id": "2c726211",
   "metadata": {},
   "outputs": [],
   "source": []
  }
 ],
 "metadata": {
  "kernelspec": {
   "display_name": "Python 3",
   "language": "python",
   "name": "python3"
  },
  "language_info": {
   "codemirror_mode": {
    "name": "ipython",
    "version": 3
   },
   "file_extension": ".py",
   "mimetype": "text/x-python",
   "name": "python",
   "nbconvert_exporter": "python",
   "pygments_lexer": "ipython3",
   "version": "3.8.8"
  }
 },
 "nbformat": 4,
 "nbformat_minor": 5
}
